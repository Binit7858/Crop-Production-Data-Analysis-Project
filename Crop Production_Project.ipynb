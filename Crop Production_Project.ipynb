{
 "cells": [
  {
   "cell_type": "code",
   "execution_count": 41,
   "id": "ce10bee5-86ee-4869-8591-14f77704d46b",
   "metadata": {},
   "outputs": [],
   "source": [
    "# IMPORTING LIBRARIES\n",
    "import numpy as np\n",
    "import pandas as pd\n",
    "import matplotlib.pyplot as plt\n",
    "import seaborn as sns"
   ]
  },
  {
   "cell_type": "code",
   "execution_count": 42,
   "id": "3ed3876e-ca97-4e15-aa17-08d4761b05dd",
   "metadata": {},
   "outputs": [],
   "source": [
    "#LOADING DATASET\n",
    "df=pd.read_csv(\"pro/Crop Production data.csv\")"
   ]
  },
  {
   "cell_type": "markdown",
   "id": "4aa769c4-d487-403b-a689-4cdd655f9b7d",
   "metadata": {},
   "source": [
    "# DATA UNDERSTANDING AND EXPLORATION"
   ]
  },
  {
   "cell_type": "code",
   "execution_count": 43,
   "id": "885f3830-96ac-41ca-ae8b-92d6c4f922ac",
   "metadata": {},
   "outputs": [
    {
     "data": {
      "text/html": [
       "<div>\n",
       "<style scoped>\n",
       "    .dataframe tbody tr th:only-of-type {\n",
       "        vertical-align: middle;\n",
       "    }\n",
       "\n",
       "    .dataframe tbody tr th {\n",
       "        vertical-align: top;\n",
       "    }\n",
       "\n",
       "    .dataframe thead th {\n",
       "        text-align: right;\n",
       "    }\n",
       "</style>\n",
       "<table border=\"1\" class=\"dataframe\">\n",
       "  <thead>\n",
       "    <tr style=\"text-align: right;\">\n",
       "      <th></th>\n",
       "      <th>State_Name</th>\n",
       "      <th>District_Name</th>\n",
       "      <th>Crop_Year</th>\n",
       "      <th>Season</th>\n",
       "      <th>Crop</th>\n",
       "      <th>Area</th>\n",
       "      <th>Production</th>\n",
       "    </tr>\n",
       "  </thead>\n",
       "  <tbody>\n",
       "    <tr>\n",
       "      <th>0</th>\n",
       "      <td>Andaman and Nicobar Islands</td>\n",
       "      <td>NICOBARS</td>\n",
       "      <td>2000</td>\n",
       "      <td>Kharif</td>\n",
       "      <td>Arecanut</td>\n",
       "      <td>1254.0</td>\n",
       "      <td>2000.0</td>\n",
       "    </tr>\n",
       "    <tr>\n",
       "      <th>1</th>\n",
       "      <td>Andaman and Nicobar Islands</td>\n",
       "      <td>NICOBARS</td>\n",
       "      <td>2000</td>\n",
       "      <td>Kharif</td>\n",
       "      <td>Other Kharif pulses</td>\n",
       "      <td>2.0</td>\n",
       "      <td>1.0</td>\n",
       "    </tr>\n",
       "    <tr>\n",
       "      <th>2</th>\n",
       "      <td>Andaman and Nicobar Islands</td>\n",
       "      <td>NICOBARS</td>\n",
       "      <td>2000</td>\n",
       "      <td>Kharif</td>\n",
       "      <td>Rice</td>\n",
       "      <td>102.0</td>\n",
       "      <td>321.0</td>\n",
       "    </tr>\n",
       "    <tr>\n",
       "      <th>3</th>\n",
       "      <td>Andaman and Nicobar Islands</td>\n",
       "      <td>NICOBARS</td>\n",
       "      <td>2000</td>\n",
       "      <td>Whole Year</td>\n",
       "      <td>Banana</td>\n",
       "      <td>176.0</td>\n",
       "      <td>641.0</td>\n",
       "    </tr>\n",
       "    <tr>\n",
       "      <th>4</th>\n",
       "      <td>Andaman and Nicobar Islands</td>\n",
       "      <td>NICOBARS</td>\n",
       "      <td>2000</td>\n",
       "      <td>Whole Year</td>\n",
       "      <td>Cashewnut</td>\n",
       "      <td>720.0</td>\n",
       "      <td>165.0</td>\n",
       "    </tr>\n",
       "    <tr>\n",
       "      <th>...</th>\n",
       "      <td>...</td>\n",
       "      <td>...</td>\n",
       "      <td>...</td>\n",
       "      <td>...</td>\n",
       "      <td>...</td>\n",
       "      <td>...</td>\n",
       "      <td>...</td>\n",
       "    </tr>\n",
       "    <tr>\n",
       "      <th>246086</th>\n",
       "      <td>West Bengal</td>\n",
       "      <td>PURULIA</td>\n",
       "      <td>2014</td>\n",
       "      <td>Summer</td>\n",
       "      <td>Rice</td>\n",
       "      <td>306.0</td>\n",
       "      <td>801.0</td>\n",
       "    </tr>\n",
       "    <tr>\n",
       "      <th>246087</th>\n",
       "      <td>West Bengal</td>\n",
       "      <td>PURULIA</td>\n",
       "      <td>2014</td>\n",
       "      <td>Summer</td>\n",
       "      <td>Sesamum</td>\n",
       "      <td>627.0</td>\n",
       "      <td>463.0</td>\n",
       "    </tr>\n",
       "    <tr>\n",
       "      <th>246088</th>\n",
       "      <td>West Bengal</td>\n",
       "      <td>PURULIA</td>\n",
       "      <td>2014</td>\n",
       "      <td>Whole Year</td>\n",
       "      <td>Sugarcane</td>\n",
       "      <td>324.0</td>\n",
       "      <td>16250.0</td>\n",
       "    </tr>\n",
       "    <tr>\n",
       "      <th>246089</th>\n",
       "      <td>West Bengal</td>\n",
       "      <td>PURULIA</td>\n",
       "      <td>2014</td>\n",
       "      <td>Winter</td>\n",
       "      <td>Rice</td>\n",
       "      <td>279151.0</td>\n",
       "      <td>597899.0</td>\n",
       "    </tr>\n",
       "    <tr>\n",
       "      <th>246090</th>\n",
       "      <td>West Bengal</td>\n",
       "      <td>PURULIA</td>\n",
       "      <td>2014</td>\n",
       "      <td>Winter</td>\n",
       "      <td>Sesamum</td>\n",
       "      <td>175.0</td>\n",
       "      <td>88.0</td>\n",
       "    </tr>\n",
       "  </tbody>\n",
       "</table>\n",
       "<p>246091 rows × 7 columns</p>\n",
       "</div>"
      ],
      "text/plain": [
       "                         State_Name District_Name  Crop_Year       Season  \\\n",
       "0       Andaman and Nicobar Islands      NICOBARS       2000  Kharif        \n",
       "1       Andaman and Nicobar Islands      NICOBARS       2000  Kharif        \n",
       "2       Andaman and Nicobar Islands      NICOBARS       2000  Kharif        \n",
       "3       Andaman and Nicobar Islands      NICOBARS       2000  Whole Year    \n",
       "4       Andaman and Nicobar Islands      NICOBARS       2000  Whole Year    \n",
       "...                             ...           ...        ...          ...   \n",
       "246086                  West Bengal       PURULIA       2014  Summer        \n",
       "246087                  West Bengal       PURULIA       2014  Summer        \n",
       "246088                  West Bengal       PURULIA       2014  Whole Year    \n",
       "246089                  West Bengal       PURULIA       2014  Winter        \n",
       "246090                  West Bengal       PURULIA       2014  Winter        \n",
       "\n",
       "                       Crop      Area  Production  \n",
       "0                  Arecanut    1254.0      2000.0  \n",
       "1       Other Kharif pulses       2.0         1.0  \n",
       "2                      Rice     102.0       321.0  \n",
       "3                    Banana     176.0       641.0  \n",
       "4                 Cashewnut     720.0       165.0  \n",
       "...                     ...       ...         ...  \n",
       "246086                 Rice     306.0       801.0  \n",
       "246087              Sesamum     627.0       463.0  \n",
       "246088            Sugarcane     324.0     16250.0  \n",
       "246089                 Rice  279151.0    597899.0  \n",
       "246090              Sesamum     175.0        88.0  \n",
       "\n",
       "[246091 rows x 7 columns]"
      ]
     },
     "execution_count": 43,
     "metadata": {},
     "output_type": "execute_result"
    }
   ],
   "source": [
    "df"
   ]
  },
  {
   "cell_type": "code",
   "execution_count": 44,
   "id": "11e927a2-4fad-4bb6-af31-b7feba47e235",
   "metadata": {},
   "outputs": [
    {
     "data": {
      "text/html": [
       "<div>\n",
       "<style scoped>\n",
       "    .dataframe tbody tr th:only-of-type {\n",
       "        vertical-align: middle;\n",
       "    }\n",
       "\n",
       "    .dataframe tbody tr th {\n",
       "        vertical-align: top;\n",
       "    }\n",
       "\n",
       "    .dataframe thead th {\n",
       "        text-align: right;\n",
       "    }\n",
       "</style>\n",
       "<table border=\"1\" class=\"dataframe\">\n",
       "  <thead>\n",
       "    <tr style=\"text-align: right;\">\n",
       "      <th></th>\n",
       "      <th>State_Name</th>\n",
       "      <th>District_Name</th>\n",
       "      <th>Crop_Year</th>\n",
       "      <th>Season</th>\n",
       "      <th>Crop</th>\n",
       "      <th>Area</th>\n",
       "      <th>Production</th>\n",
       "    </tr>\n",
       "  </thead>\n",
       "  <tbody>\n",
       "    <tr>\n",
       "      <th>0</th>\n",
       "      <td>Andaman and Nicobar Islands</td>\n",
       "      <td>NICOBARS</td>\n",
       "      <td>2000</td>\n",
       "      <td>Kharif</td>\n",
       "      <td>Arecanut</td>\n",
       "      <td>1254.0</td>\n",
       "      <td>2000.0</td>\n",
       "    </tr>\n",
       "    <tr>\n",
       "      <th>1</th>\n",
       "      <td>Andaman and Nicobar Islands</td>\n",
       "      <td>NICOBARS</td>\n",
       "      <td>2000</td>\n",
       "      <td>Kharif</td>\n",
       "      <td>Other Kharif pulses</td>\n",
       "      <td>2.0</td>\n",
       "      <td>1.0</td>\n",
       "    </tr>\n",
       "    <tr>\n",
       "      <th>2</th>\n",
       "      <td>Andaman and Nicobar Islands</td>\n",
       "      <td>NICOBARS</td>\n",
       "      <td>2000</td>\n",
       "      <td>Kharif</td>\n",
       "      <td>Rice</td>\n",
       "      <td>102.0</td>\n",
       "      <td>321.0</td>\n",
       "    </tr>\n",
       "    <tr>\n",
       "      <th>3</th>\n",
       "      <td>Andaman and Nicobar Islands</td>\n",
       "      <td>NICOBARS</td>\n",
       "      <td>2000</td>\n",
       "      <td>Whole Year</td>\n",
       "      <td>Banana</td>\n",
       "      <td>176.0</td>\n",
       "      <td>641.0</td>\n",
       "    </tr>\n",
       "    <tr>\n",
       "      <th>4</th>\n",
       "      <td>Andaman and Nicobar Islands</td>\n",
       "      <td>NICOBARS</td>\n",
       "      <td>2000</td>\n",
       "      <td>Whole Year</td>\n",
       "      <td>Cashewnut</td>\n",
       "      <td>720.0</td>\n",
       "      <td>165.0</td>\n",
       "    </tr>\n",
       "  </tbody>\n",
       "</table>\n",
       "</div>"
      ],
      "text/plain": [
       "                    State_Name District_Name  Crop_Year       Season  \\\n",
       "0  Andaman and Nicobar Islands      NICOBARS       2000  Kharif        \n",
       "1  Andaman and Nicobar Islands      NICOBARS       2000  Kharif        \n",
       "2  Andaman and Nicobar Islands      NICOBARS       2000  Kharif        \n",
       "3  Andaman and Nicobar Islands      NICOBARS       2000  Whole Year    \n",
       "4  Andaman and Nicobar Islands      NICOBARS       2000  Whole Year    \n",
       "\n",
       "                  Crop    Area  Production  \n",
       "0             Arecanut  1254.0      2000.0  \n",
       "1  Other Kharif pulses     2.0         1.0  \n",
       "2                 Rice   102.0       321.0  \n",
       "3               Banana   176.0       641.0  \n",
       "4            Cashewnut   720.0       165.0  "
      ]
     },
     "execution_count": 44,
     "metadata": {},
     "output_type": "execute_result"
    }
   ],
   "source": [
    "#FIRST FIVE ROWS OF DATASET\n",
    "df.head()"
   ]
  },
  {
   "cell_type": "code",
   "execution_count": 45,
   "id": "2f9de248-de13-4294-ab05-452a73a47cac",
   "metadata": {},
   "outputs": [
    {
     "data": {
      "text/html": [
       "<div>\n",
       "<style scoped>\n",
       "    .dataframe tbody tr th:only-of-type {\n",
       "        vertical-align: middle;\n",
       "    }\n",
       "\n",
       "    .dataframe tbody tr th {\n",
       "        vertical-align: top;\n",
       "    }\n",
       "\n",
       "    .dataframe thead th {\n",
       "        text-align: right;\n",
       "    }\n",
       "</style>\n",
       "<table border=\"1\" class=\"dataframe\">\n",
       "  <thead>\n",
       "    <tr style=\"text-align: right;\">\n",
       "      <th></th>\n",
       "      <th>State_Name</th>\n",
       "      <th>District_Name</th>\n",
       "      <th>Crop_Year</th>\n",
       "      <th>Season</th>\n",
       "      <th>Crop</th>\n",
       "      <th>Area</th>\n",
       "      <th>Production</th>\n",
       "    </tr>\n",
       "  </thead>\n",
       "  <tbody>\n",
       "    <tr>\n",
       "      <th>246086</th>\n",
       "      <td>West Bengal</td>\n",
       "      <td>PURULIA</td>\n",
       "      <td>2014</td>\n",
       "      <td>Summer</td>\n",
       "      <td>Rice</td>\n",
       "      <td>306.0</td>\n",
       "      <td>801.0</td>\n",
       "    </tr>\n",
       "    <tr>\n",
       "      <th>246087</th>\n",
       "      <td>West Bengal</td>\n",
       "      <td>PURULIA</td>\n",
       "      <td>2014</td>\n",
       "      <td>Summer</td>\n",
       "      <td>Sesamum</td>\n",
       "      <td>627.0</td>\n",
       "      <td>463.0</td>\n",
       "    </tr>\n",
       "    <tr>\n",
       "      <th>246088</th>\n",
       "      <td>West Bengal</td>\n",
       "      <td>PURULIA</td>\n",
       "      <td>2014</td>\n",
       "      <td>Whole Year</td>\n",
       "      <td>Sugarcane</td>\n",
       "      <td>324.0</td>\n",
       "      <td>16250.0</td>\n",
       "    </tr>\n",
       "    <tr>\n",
       "      <th>246089</th>\n",
       "      <td>West Bengal</td>\n",
       "      <td>PURULIA</td>\n",
       "      <td>2014</td>\n",
       "      <td>Winter</td>\n",
       "      <td>Rice</td>\n",
       "      <td>279151.0</td>\n",
       "      <td>597899.0</td>\n",
       "    </tr>\n",
       "    <tr>\n",
       "      <th>246090</th>\n",
       "      <td>West Bengal</td>\n",
       "      <td>PURULIA</td>\n",
       "      <td>2014</td>\n",
       "      <td>Winter</td>\n",
       "      <td>Sesamum</td>\n",
       "      <td>175.0</td>\n",
       "      <td>88.0</td>\n",
       "    </tr>\n",
       "  </tbody>\n",
       "</table>\n",
       "</div>"
      ],
      "text/plain": [
       "         State_Name District_Name  Crop_Year       Season       Crop  \\\n",
       "246086  West Bengal       PURULIA       2014  Summer            Rice   \n",
       "246087  West Bengal       PURULIA       2014  Summer         Sesamum   \n",
       "246088  West Bengal       PURULIA       2014  Whole Year   Sugarcane   \n",
       "246089  West Bengal       PURULIA       2014  Winter            Rice   \n",
       "246090  West Bengal       PURULIA       2014  Winter         Sesamum   \n",
       "\n",
       "            Area  Production  \n",
       "246086     306.0       801.0  \n",
       "246087     627.0       463.0  \n",
       "246088     324.0     16250.0  \n",
       "246089  279151.0    597899.0  \n",
       "246090     175.0        88.0  "
      ]
     },
     "execution_count": 45,
     "metadata": {},
     "output_type": "execute_result"
    }
   ],
   "source": [
    "#LAST FIVE ROWS OF DATASET\n",
    "df.tail()"
   ]
  },
  {
   "cell_type": "code",
   "execution_count": 46,
   "id": "48c7830a-22a5-4f49-a75f-8e8ef15c680c",
   "metadata": {},
   "outputs": [
    {
     "name": "stdout",
     "output_type": "stream",
     "text": [
      "<class 'pandas.core.frame.DataFrame'>\n",
      "RangeIndex: 246091 entries, 0 to 246090\n",
      "Data columns (total 7 columns):\n",
      " #   Column         Non-Null Count   Dtype  \n",
      "---  ------         --------------   -----  \n",
      " 0   State_Name     246091 non-null  object \n",
      " 1   District_Name  246091 non-null  object \n",
      " 2   Crop_Year      246091 non-null  int64  \n",
      " 3   Season         246091 non-null  object \n",
      " 4   Crop           246091 non-null  object \n",
      " 5   Area           246091 non-null  float64\n",
      " 6   Production     242361 non-null  float64\n",
      "dtypes: float64(2), int64(1), object(4)\n",
      "memory usage: 13.1+ MB\n"
     ]
    }
   ],
   "source": [
    "#INFORMATION ABOUT DATASET\n",
    "df.info()"
   ]
  },
  {
   "cell_type": "markdown",
   "id": "731559cf-b76a-462b-a5dc-8427c30d39a5",
   "metadata": {},
   "source": [
    "#The dataset contains 4 Categorical variables(State_Name,District_Name,Season and Crop) and 3 numerical variables (Crop_Year,Area and Production)."
   ]
  },
  {
   "cell_type": "code",
   "execution_count": 47,
   "id": "28b0afc7-8bb7-4681-8136-f94a3ae23b02",
   "metadata": {},
   "outputs": [
    {
     "data": {
      "text/plain": [
       "(246091, 7)"
      ]
     },
     "execution_count": 47,
     "metadata": {},
     "output_type": "execute_result"
    }
   ],
   "source": [
    "# SHAPE OF DATASET\n",
    "df.shape"
   ]
  },
  {
   "cell_type": "code",
   "execution_count": 48,
   "id": "c94ef01d-e759-4a9e-a318-855a48f3747e",
   "metadata": {},
   "outputs": [
    {
     "data": {
      "text/html": [
       "<div>\n",
       "<style scoped>\n",
       "    .dataframe tbody tr th:only-of-type {\n",
       "        vertical-align: middle;\n",
       "    }\n",
       "\n",
       "    .dataframe tbody tr th {\n",
       "        vertical-align: top;\n",
       "    }\n",
       "\n",
       "    .dataframe thead th {\n",
       "        text-align: right;\n",
       "    }\n",
       "</style>\n",
       "<table border=\"1\" class=\"dataframe\">\n",
       "  <thead>\n",
       "    <tr style=\"text-align: right;\">\n",
       "      <th></th>\n",
       "      <th>Crop_Year</th>\n",
       "      <th>Area</th>\n",
       "      <th>Production</th>\n",
       "    </tr>\n",
       "  </thead>\n",
       "  <tbody>\n",
       "    <tr>\n",
       "      <th>count</th>\n",
       "      <td>246091.000000</td>\n",
       "      <td>2.460910e+05</td>\n",
       "      <td>2.423610e+05</td>\n",
       "    </tr>\n",
       "    <tr>\n",
       "      <th>mean</th>\n",
       "      <td>2005.643018</td>\n",
       "      <td>1.200282e+04</td>\n",
       "      <td>5.825034e+05</td>\n",
       "    </tr>\n",
       "    <tr>\n",
       "      <th>std</th>\n",
       "      <td>4.952164</td>\n",
       "      <td>5.052340e+04</td>\n",
       "      <td>1.706581e+07</td>\n",
       "    </tr>\n",
       "    <tr>\n",
       "      <th>min</th>\n",
       "      <td>1997.000000</td>\n",
       "      <td>4.000000e-02</td>\n",
       "      <td>0.000000e+00</td>\n",
       "    </tr>\n",
       "    <tr>\n",
       "      <th>25%</th>\n",
       "      <td>2002.000000</td>\n",
       "      <td>8.000000e+01</td>\n",
       "      <td>8.800000e+01</td>\n",
       "    </tr>\n",
       "    <tr>\n",
       "      <th>50%</th>\n",
       "      <td>2006.000000</td>\n",
       "      <td>5.820000e+02</td>\n",
       "      <td>7.290000e+02</td>\n",
       "    </tr>\n",
       "    <tr>\n",
       "      <th>75%</th>\n",
       "      <td>2010.000000</td>\n",
       "      <td>4.392000e+03</td>\n",
       "      <td>7.023000e+03</td>\n",
       "    </tr>\n",
       "    <tr>\n",
       "      <th>max</th>\n",
       "      <td>2015.000000</td>\n",
       "      <td>8.580100e+06</td>\n",
       "      <td>1.250800e+09</td>\n",
       "    </tr>\n",
       "  </tbody>\n",
       "</table>\n",
       "</div>"
      ],
      "text/plain": [
       "           Crop_Year          Area    Production\n",
       "count  246091.000000  2.460910e+05  2.423610e+05\n",
       "mean     2005.643018  1.200282e+04  5.825034e+05\n",
       "std         4.952164  5.052340e+04  1.706581e+07\n",
       "min      1997.000000  4.000000e-02  0.000000e+00\n",
       "25%      2002.000000  8.000000e+01  8.800000e+01\n",
       "50%      2006.000000  5.820000e+02  7.290000e+02\n",
       "75%      2010.000000  4.392000e+03  7.023000e+03\n",
       "max      2015.000000  8.580100e+06  1.250800e+09"
      ]
     },
     "execution_count": 48,
     "metadata": {},
     "output_type": "execute_result"
    }
   ],
   "source": [
    "#STATISTICS OF DATASET\n",
    "df.describe()"
   ]
  },
  {
   "cell_type": "markdown",
   "id": "39633809-bf79-4e8d-8f8e-6cab13cb9dde",
   "metadata": {},
   "source": [
    "# DATA CLEANING"
   ]
  },
  {
   "cell_type": "code",
   "execution_count": 49,
   "id": "ec152088-6659-47e3-8d66-3d654d552e59",
   "metadata": {},
   "outputs": [
    {
     "data": {
      "text/plain": [
       "State_Name          0\n",
       "District_Name       0\n",
       "Crop_Year           0\n",
       "Season              0\n",
       "Crop                0\n",
       "Area                0\n",
       "Production       3730\n",
       "dtype: int64"
      ]
     },
     "execution_count": 49,
     "metadata": {},
     "output_type": "execute_result"
    }
   ],
   "source": [
    "#CHECKING FOR NULL VALUES\n",
    "df.isnull().sum()"
   ]
  },
  {
   "cell_type": "code",
   "execution_count": 50,
   "id": "2f7294ea-903b-4afc-92b9-14408f70575e",
   "metadata": {},
   "outputs": [],
   "source": [
    "#REMOVING NULL VALUES\n",
    "df.dropna(inplace=True)"
   ]
  },
  {
   "cell_type": "code",
   "execution_count": 51,
   "id": "7b65e572-06d8-4445-8aa0-da8dd090b6bb",
   "metadata": {},
   "outputs": [
    {
     "data": {
      "text/plain": [
       "State_Name       0\n",
       "District_Name    0\n",
       "Crop_Year        0\n",
       "Season           0\n",
       "Crop             0\n",
       "Area             0\n",
       "Production       0\n",
       "dtype: int64"
      ]
     },
     "execution_count": 51,
     "metadata": {},
     "output_type": "execute_result"
    }
   ],
   "source": [
    "#AGAIN CHECKING FOR NULL VALUES\n",
    "df.isnull().sum()"
   ]
  },
  {
   "cell_type": "markdown",
   "id": "c9b81e3a-d3f5-45cf-bb47-c3944a0d8cb1",
   "metadata": {},
   "source": [
    "# EXPLORARTORY DATA ANALYSIS"
   ]
  },
  {
   "cell_type": "markdown",
   "id": "df9a7dfd-4d25-4746-821b-7caa8346f040",
   "metadata": {},
   "source": [
    "# State Wise Analysis"
   ]
  },
  {
   "cell_type": "code",
   "execution_count": 52,
   "id": "6941e998-4f03-4bd8-a040-6d2fefbd7f72",
   "metadata": {},
   "outputs": [
    {
     "data": {
      "text/plain": [
       "33"
      ]
     },
     "execution_count": 52,
     "metadata": {},
     "output_type": "execute_result"
    }
   ],
   "source": [
    "#NUMBER OF STATES\n",
    "df[\"State_Name\"].nunique()"
   ]
  },
  {
   "cell_type": "code",
   "execution_count": 53,
   "id": "5ad90934-0a8a-4370-aefe-7dbd27cee1b2",
   "metadata": {},
   "outputs": [
    {
     "data": {
      "text/plain": [
       "array(['Andaman and Nicobar Islands', 'Andhra Pradesh',\n",
       "       'Arunachal Pradesh', 'Assam', 'Bihar', 'Chandigarh',\n",
       "       'Chhattisgarh', 'Dadra and Nagar Haveli', 'Goa', 'Gujarat',\n",
       "       'Haryana', 'Himachal Pradesh', 'Jammu and Kashmir ', 'Jharkhand',\n",
       "       'Karnataka', 'Kerala', 'Madhya Pradesh', 'Maharashtra', 'Manipur',\n",
       "       'Meghalaya', 'Mizoram', 'Nagaland', 'Odisha', 'Puducherry',\n",
       "       'Punjab', 'Rajasthan', 'Sikkim', 'Tamil Nadu', 'Telangana ',\n",
       "       'Tripura', 'Uttar Pradesh', 'Uttarakhand', 'West Bengal'],\n",
       "      dtype=object)"
      ]
     },
     "execution_count": 53,
     "metadata": {},
     "output_type": "execute_result"
    }
   ],
   "source": [
    "df[\"State_Name\"].unique()"
   ]
  },
  {
   "cell_type": "code",
   "execution_count": 54,
   "id": "f7ed8b81-59ed-47d3-951a-af705909e5ed",
   "metadata": {},
   "outputs": [
    {
     "data": {
      "text/plain": [
       "State_Name\n",
       "Uttar Pradesh                  33189\n",
       "Madhya Pradesh                 22604\n",
       "Karnataka                      21079\n",
       "Bihar                          18874\n",
       "Assam                          14622\n",
       "Odisha                         13524\n",
       "Tamil Nadu                     13266\n",
       "Maharashtra                    12496\n",
       "Rajasthan                      12066\n",
       "Chhattisgarh                   10368\n",
       "West Bengal                     9597\n",
       "Andhra Pradesh                  9561\n",
       "Gujarat                         8365\n",
       "Telangana                       5591\n",
       "Uttarakhand                     4825\n",
       "Haryana                         4540\n",
       "Kerala                          4003\n",
       "Nagaland                        3904\n",
       "Punjab                          3143\n",
       "Meghalaya                       2867\n",
       "Arunachal Pradesh               2545\n",
       "Himachal Pradesh                2456\n",
       "Jammu and Kashmir               1632\n",
       "Tripura                         1412\n",
       "Manipur                         1266\n",
       "Jharkhand                       1266\n",
       "Mizoram                          954\n",
       "Puducherry                       872\n",
       "Sikkim                           714\n",
       "Dadra and Nagar Haveli           263\n",
       "Goa                              207\n",
       "Andaman and Nicobar Islands      201\n",
       "Chandigarh                        89\n",
       "Name: count, dtype: int64"
      ]
     },
     "execution_count": 54,
     "metadata": {},
     "output_type": "execute_result"
    }
   ],
   "source": [
    "df[\"State_Name\"].value_counts()"
   ]
  },
  {
   "cell_type": "markdown",
   "id": "86ed1a5b-4088-4298-a196-c9c6521be6bf",
   "metadata": {},
   "source": [
    "#Observation\n",
    "\n",
    "There are total 33 States in which Uttar Pradesh, \n",
    "Madhya Prades and \r\n",
    "Karnatkaa are top 3 agriculture rich states followed by other states.ka"
   ]
  },
  {
   "cell_type": "markdown",
   "id": "38b38f6e-7512-48ea-a950-86676b8e6752",
   "metadata": {},
   "source": [
    "# District Wise Analysis"
   ]
  },
  {
   "cell_type": "code",
   "execution_count": 55,
   "id": "abf96ea7-c7ff-4144-9933-bab229b0a5d5",
   "metadata": {},
   "outputs": [
    {
     "data": {
      "text/plain": [
       "646"
      ]
     },
     "execution_count": 55,
     "metadata": {},
     "output_type": "execute_result"
    }
   ],
   "source": [
    "df[\"District_Name\"].nunique()"
   ]
  },
  {
   "cell_type": "code",
   "execution_count": 56,
   "id": "416b7116-5e9f-46f5-99e9-e91e58f70e12",
   "metadata": {},
   "outputs": [
    {
     "data": {
      "text/plain": [
       "District_Name\n",
       "TUMKUR       931\n",
       "BELGAUM      924\n",
       "BIJAPUR      905\n",
       "HASSAN       895\n",
       "BELLARY      887\n",
       "            ... \n",
       "HYDERABAD      8\n",
       "KHUNTI         6\n",
       "RAMGARH        6\n",
       "NAMSAI         1\n",
       "MUMBAI         1\n",
       "Name: count, Length: 646, dtype: int64"
      ]
     },
     "execution_count": 56,
     "metadata": {},
     "output_type": "execute_result"
    }
   ],
   "source": [
    "df[\"District_Name\"].value_counts()"
   ]
  },
  {
   "cell_type": "markdown",
   "id": "3bde1d6c-2364-4c0d-904b-e6e58d4d5c6d",
   "metadata": {},
   "source": [
    "#Observation\n",
    "\n",
    "The Dataset contains 646 Districts in which Tumkur,Belgaum and Bijapur is the top 3 district which produces more crops than other districts."
   ]
  },
  {
   "cell_type": "markdown",
   "id": "40225e75-b6ce-464c-9eb2-ab419148e0b7",
   "metadata": {},
   "source": [
    "# Crop Year Analysis"
   ]
  },
  {
   "cell_type": "code",
   "execution_count": 57,
   "id": "3992ef8e-3970-4ea2-bfe1-88db8723da83",
   "metadata": {},
   "outputs": [
    {
     "data": {
      "text/plain": [
       "array([2000, 2001, 2002, 2003, 2004, 2005, 2006, 2010, 1997, 1998, 1999,\n",
       "       2007, 2008, 2009, 2011, 2012, 2013, 2014, 2015], dtype=int64)"
      ]
     },
     "execution_count": 57,
     "metadata": {},
     "output_type": "execute_result"
    }
   ],
   "source": [
    "df[\"Crop_Year\"].unique()"
   ]
  },
  {
   "cell_type": "code",
   "execution_count": 58,
   "id": "8dafb0df-2fcc-4202-84b2-47edbd21d5fb",
   "metadata": {},
   "outputs": [
    {
     "data": {
      "text/plain": [
       "19"
      ]
     },
     "execution_count": 58,
     "metadata": {},
     "output_type": "execute_result"
    }
   ],
   "source": [
    "df[\"Crop_Year\"].nunique()"
   ]
  },
  {
   "cell_type": "markdown",
   "id": "e381ace6-2a41-46e5-ac8a-eb34e22a2abf",
   "metadata": {},
   "source": [
    "The dataset contain 19 years of crop production data."
   ]
  },
  {
   "cell_type": "code",
   "execution_count": 59,
   "id": "5892ab48-2cbf-46db-8f45-5dd01b90b06b",
   "metadata": {},
   "outputs": [
    {
     "data": {
      "text/plain": [
       "Crop_Year\n",
       "2003    17139\n",
       "2002    16536\n",
       "2007    14269\n",
       "2008    14230\n",
       "2006    13976\n",
       "2004    13858\n",
       "2010    13793\n",
       "2011    13791\n",
       "2009    13767\n",
       "2000    13553\n",
       "2005    13519\n",
       "2013    13475\n",
       "2001    13293\n",
       "2012    13184\n",
       "1999    12441\n",
       "1998    11262\n",
       "2014    10815\n",
       "1997     8899\n",
       "2015      561\n",
       "Name: count, dtype: int64"
      ]
     },
     "execution_count": 59,
     "metadata": {},
     "output_type": "execute_result"
    }
   ],
   "source": [
    "df[\"Crop_Year\"].value_counts()"
   ]
  },
  {
   "cell_type": "markdown",
   "id": "cb857bbc-a65d-4eec-912c-fb7461c106fd",
   "metadata": {},
   "source": [
    "The top 3 year are 2003,2002 and 2007."
   ]
  },
  {
   "cell_type": "markdown",
   "id": "27b35a44-51a4-4ab1-b84d-dec851ae1db2",
   "metadata": {},
   "source": [
    "# Season wise Analysis"
   ]
  },
  {
   "cell_type": "code",
   "execution_count": 60,
   "id": "ba71f5d1-1cd6-4e01-9698-d695c41b503f",
   "metadata": {},
   "outputs": [
    {
     "data": {
      "text/plain": [
       "array(['Kharif     ', 'Whole Year ', 'Autumn     ', 'Rabi       ',\n",
       "       'Summer     ', 'Winter     '], dtype=object)"
      ]
     },
     "execution_count": 60,
     "metadata": {},
     "output_type": "execute_result"
    }
   ],
   "source": [
    "df[\"Season\"].unique()"
   ]
  },
  {
   "cell_type": "code",
   "execution_count": 61,
   "id": "e9bbb9fe-f160-4ff2-86e5-aae43f76da30",
   "metadata": {},
   "outputs": [
    {
     "data": {
      "text/plain": [
       "6"
      ]
     },
     "execution_count": 61,
     "metadata": {},
     "output_type": "execute_result"
    }
   ],
   "source": [
    "df[\"Season\"].nunique()"
   ]
  },
  {
   "cell_type": "code",
   "execution_count": 62,
   "id": "e3be4e4c-c18c-41d4-8a5d-bd5eab9e5439",
   "metadata": {},
   "outputs": [
    {
     "data": {
      "text/plain": [
       "Season\n",
       "Kharif         94283\n",
       "Rabi           66160\n",
       "Whole Year     56127\n",
       "Summer         14811\n",
       "Winter          6050\n",
       "Autumn          4930\n",
       "Name: count, dtype: int64"
      ]
     },
     "execution_count": 62,
     "metadata": {},
     "output_type": "execute_result"
    }
   ],
   "source": [
    "df[\"Season\"].value_counts()"
   ]
  },
  {
   "cell_type": "markdown",
   "id": "6ebaf3ba-49c5-4947-82f4-b062188231ac",
   "metadata": {},
   "source": [
    "There are 6 types of season in which Kharif,Rabi and Whole are are top 3 season."
   ]
  },
  {
   "cell_type": "code",
   "execution_count": 63,
   "id": "e7a3f898-4d40-4849-b47d-d446fa81ed13",
   "metadata": {},
   "outputs": [
    {
     "name": "stdout",
     "output_type": "stream",
     "text": [
      "<class 'pandas.core.frame.DataFrame'>\n",
      "Index: 242361 entries, 0 to 246090\n",
      "Data columns (total 7 columns):\n",
      " #   Column         Non-Null Count   Dtype  \n",
      "---  ------         --------------   -----  \n",
      " 0   State_Name     242361 non-null  object \n",
      " 1   District_Name  242361 non-null  object \n",
      " 2   Crop_Year      242361 non-null  int64  \n",
      " 3   Season         242361 non-null  object \n",
      " 4   Crop           242361 non-null  object \n",
      " 5   Area           242361 non-null  float64\n",
      " 6   Production     242361 non-null  float64\n",
      "dtypes: float64(2), int64(1), object(4)\n",
      "memory usage: 14.8+ MB\n"
     ]
    }
   ],
   "source": [
    "df.info()"
   ]
  },
  {
   "cell_type": "markdown",
   "id": "5b50173d-11b5-4ecd-a0ec-3ca8347a88c3",
   "metadata": {},
   "source": [
    "# Crop Wise Analysis"
   ]
  },
  {
   "cell_type": "code",
   "execution_count": 64,
   "id": "dbcc6927-8b9e-4042-bc8f-87cc12cba575",
   "metadata": {},
   "outputs": [
    {
     "data": {
      "text/plain": [
       "array(['Arecanut', 'Other Kharif pulses', 'Rice', 'Banana', 'Cashewnut',\n",
       "       'Coconut ', 'Dry ginger', 'Sugarcane', 'Sweet potato', 'Tapioca',\n",
       "       'Black pepper', 'Dry chillies', 'other oilseeds', 'Turmeric',\n",
       "       'Maize', 'Moong(Green Gram)', 'Urad', 'Arhar/Tur', 'Groundnut',\n",
       "       'Sunflower', 'Bajra', 'Castor seed', 'Cotton(lint)', 'Horse-gram',\n",
       "       'Jowar', 'Korra', 'Ragi', 'Tobacco', 'Gram', 'Wheat', 'Masoor',\n",
       "       'Sesamum', 'Linseed', 'Safflower', 'Onion', 'other misc. pulses',\n",
       "       'Samai', 'Small millets', 'Coriander', 'Potato',\n",
       "       'Other  Rabi pulses', 'Soyabean', 'Beans & Mutter(Vegetable)',\n",
       "       'Bhindi', 'Brinjal', 'Citrus Fruit', 'Cucumber', 'Grapes', 'Mango',\n",
       "       'Orange', 'other fibres', 'Other Fresh Fruits', 'Other Vegetables',\n",
       "       'Papaya', 'Pome Fruit', 'Tomato', 'Mesta', 'Cowpea(Lobia)',\n",
       "       'Lemon', 'Pome Granet', 'Sapota', 'Cabbage', 'Rapeseed &Mustard',\n",
       "       'Peas  (vegetable)', 'Niger seed', 'Bottle Gourd', 'Varagu',\n",
       "       'Garlic', 'Ginger', 'Oilseeds total', 'Pulses total', 'Jute',\n",
       "       'Peas & beans (Pulses)', 'Blackgram', 'Paddy', 'Pineapple',\n",
       "       'Barley', 'Sannhamp', 'Khesari', 'Guar seed', 'Moth',\n",
       "       'Other Cereals & Millets', 'Cond-spcs other', 'Turnip', 'Carrot',\n",
       "       'Redish', 'Arcanut (Processed)', 'Atcanut (Raw)',\n",
       "       'Cashewnut Processed', 'Cashewnut Raw', 'Cardamom', 'Rubber',\n",
       "       'Bitter Gourd', 'Drum Stick', 'Jack Fruit', 'Snak Guard', 'Tea',\n",
       "       'Coffee', 'Cauliflower', 'Other Citrus Fruit', 'Water Melon',\n",
       "       'Total foodgrain', 'Kapas', 'Colocosia', 'Lentil', 'Bean',\n",
       "       'Jobster', 'Perilla', 'Rajmash Kholar', 'Ricebean (nagadal)',\n",
       "       'Ash Gourd', 'Beet Root', 'Lab-Lab', 'Ribed Guard', 'Yam',\n",
       "       'Pump Kin', 'Apple', 'Peach', 'Pear', 'Plums', 'Litchi', 'Ber',\n",
       "       'Other Dry Fruit', 'Jute & mesta'], dtype=object)"
      ]
     },
     "execution_count": 64,
     "metadata": {},
     "output_type": "execute_result"
    }
   ],
   "source": [
    "df[\"Crop\"].unique()"
   ]
  },
  {
   "cell_type": "code",
   "execution_count": 65,
   "id": "f861b9d4-55bb-4598-a623-814d84c51d99",
   "metadata": {},
   "outputs": [
    {
     "data": {
      "text/plain": [
       "124"
      ]
     },
     "execution_count": 65,
     "metadata": {},
     "output_type": "execute_result"
    }
   ],
   "source": [
    "df[\"Crop\"].nunique()"
   ]
  },
  {
   "cell_type": "code",
   "execution_count": 66,
   "id": "30bed302-c8b8-4ecb-baa0-3efd3e2f540f",
   "metadata": {},
   "outputs": [
    {
     "data": {
      "text/plain": [
       "Crop\n",
       "Rice                 15082\n",
       "Maize                13787\n",
       "Moong(Green Gram)    10106\n",
       "Urad                  9710\n",
       "Sesamum               8821\n",
       "                     ...  \n",
       "Litchi                   6\n",
       "Coffee                   6\n",
       "Apple                    4\n",
       "Peach                    4\n",
       "Other Dry Fruit          1\n",
       "Name: count, Length: 124, dtype: int64"
      ]
     },
     "execution_count": 66,
     "metadata": {},
     "output_type": "execute_result"
    }
   ],
   "source": [
    "df[\"Crop\"].value_counts()"
   ]
  },
  {
   "cell_type": "markdown",
   "id": "d82df97c-ff44-4c84-b295-d83c56e748f7",
   "metadata": {},
   "source": [
    "The dataset contains 124 types of crops in which Rice,Maize and Moong are top three."
   ]
  },
  {
   "cell_type": "markdown",
   "id": "6f988cc3-bc11-4922-9c1d-9bd4f377843b",
   "metadata": {},
   "source": [
    "# Bivariate Analysis"
   ]
  },
  {
   "cell_type": "markdown",
   "id": "f1a50a3f-3f31-4b91-a0d9-c4964e21cfc4",
   "metadata": {},
   "source": [
    "Analysis of Production of Crop State Wise"
   ]
  },
  {
   "cell_type": "code",
   "execution_count": 67,
   "id": "01e25adc-7a1d-4d76-a1e1-c8a29b565abc",
   "metadata": {},
   "outputs": [
    {
     "data": {
      "image/png": "[encoded data removed]",
      "text/plain": [
       "<Figure size 640x480 with 1 Axes>"
      ]
     },
     "metadata": {},
     "output_type": "display_data"
    }
   ],
   "source": [
    "sns.barplot(x=df[\"Production\"],y=df[\"State_Name\"])\n",
    "plt.xticks(rotation=90)\n",
    "plt.show()"
   ]
  },
  {
   "cell_type": "markdown",
   "id": "051dfd34-2653-48c5-b08a-567143950586",
   "metadata": {},
   "source": [
    "#Kerela is the top Crop production state followed by the Andaman and nicobar island and Goa."
   ]
  },
  {
   "cell_type": "code",
   "execution_count": 68,
   "id": "6ebccab2-b588-4807-b1dd-15bbc45bb9db",
   "metadata": {},
   "outputs": [
    {
     "data": {
      "image/png": "[encoded data removed]",
      "text/plain": [
       "<Figure size 640x480 with 1 Axes>"
      ]
     },
     "metadata": {},
     "output_type": "display_data"
    }
   ],
   "source": [
    "#Analysis of Production of crop Season wise\n",
    "sns.barplot(x=df[\"Production\"],y=df[\"Season\"])\n",
    "plt.xticks(rotation=90)\n",
    "plt.show()"
   ]
  },
  {
   "cell_type": "markdown",
   "id": "da04cc6c-95de-4f34-b80d-cfbaa5b2b9ea",
   "metadata": {},
   "source": [
    "#Whole year crop has the highest production followed by Winter and kharif."
   ]
  },
  {
   "cell_type": "code",
   "execution_count": 75,
   "id": "8dcf8cb7-2f69-43d6-8e0b-be71872893ba",
   "metadata": {},
   "outputs": [
    {
     "data": {
      "image/png": "[encoded data removed]",
      "text/plain": [
       "<Figure size 640x480 with 1 Axes>"
      ]
     },
     "metadata": {},
     "output_type": "display_data"
    }
   ],
   "source": [
    "import warnings\n",
    "warnings.simplefilter(action='ignore', category=FutureWarning)\n",
    "#Analysis of Crop Production Trends Over Years\n",
    "sns.lineplot(x=df[\"Crop_Year\"],y=df['Production'])\n",
    "plt.xticks(rotation=90)\n",
    "plt.title('Crop Production Trends Over Years')\n",
    "plt.show()\n"
   ]
  },
  {
   "cell_type": "code",
   "execution_count": 81,
   "id": "7ad51bef-d3a3-4c90-b6d8-4d66a7802727",
   "metadata": {},
   "outputs": [],
   "source": [
    "df.to_csv(r\"C:\\Users\\Hp\\OneDrive\\Desktop\\Unified Mentor intern\\Crop Production.csv\")"
   ]
  },
  {
   "cell_type": "code",
   "execution_count": null,
   "id": "0665e423-ddd2-4044-91e7-f1e96d5c6a39",
   "metadata": {},
   "outputs": [],
   "source": []
  }
 ],
 "metadata": {
  "kernelspec": {
   "display_name": "Python 3 (ipykernel)",
   "language": "python",
   "name": "python3"
  },
  "language_info": {
   "codemirror_mode": {
    "name": "ipython",
    "version": 3
   },
   "file_extension": ".py",
   "mimetype": "text/x-python",
   "name": "python",
   "nbconvert_exporter": "python",
   "pygments_lexer": "ipython3",
   "version": "3.11.7"
  }
 },
 "nbformat": 4,
 "nbformat_minor": 5
}
